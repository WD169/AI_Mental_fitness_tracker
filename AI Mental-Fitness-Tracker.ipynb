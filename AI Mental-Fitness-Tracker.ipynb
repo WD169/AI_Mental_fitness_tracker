{
 "cells": [
  {
   "cell_type": "markdown",
   "id": "0eab15a7",
   "metadata": {},
   "source": [
    "# Mental Fitness Tracker ( Chinmay Jadhav )"
   ]
  },
  {
   "cell_type": "code",
   "execution_count": 11,
   "id": "ac946c4c",
   "metadata": {},
   "outputs": [],
   "source": [
    "#importing libraries\n",
    "\n",
    "import pandas as pd\n",
    "import numpy as np\n",
    "\n",
    "import seaborn as sns\n",
    "import matplotlib.pyplot as plt\n",
    "import plotly.express as px\n",
    "import warnings\n",
    "warnings.filterwarnings('ignore')"
   ]
  },
  {
   "cell_type": "code",
   "execution_count": 12,
   "id": "95bcc86c",
   "metadata": {},
   "outputs": [],
   "source": [
    "#Extracting data:\n",
    "\n",
    "data_1 = pd.read_csv(\"Mental fitness dataset.csv\")"
   ]
  },
  {
   "cell_type": "code",
   "execution_count": 13,
   "id": "782d082e",
   "metadata": {},
   "outputs": [
    {
     "data": {
      "text/plain": [
       "(108553, 11)"
      ]
     },
     "execution_count": 13,
     "metadata": {},
     "output_type": "execute_result"
    }
   ],
   "source": [
    "data_1.shape"
   ]
  },
  {
   "cell_type": "code",
   "execution_count": 14,
   "id": "ea788b6d",
   "metadata": {},
   "outputs": [
    {
     "data": {
      "text/html": [
       "<div>\n",
       "<style scoped>\n",
       "    .dataframe tbody tr th:only-of-type {\n",
       "        vertical-align: middle;\n",
       "    }\n",
       "\n",
       "    .dataframe tbody tr th {\n",
       "        vertical-align: top;\n",
       "    }\n",
       "\n",
       "    .dataframe thead th {\n",
       "        text-align: right;\n",
       "    }\n",
       "</style>\n",
       "<table border=\"1\" class=\"dataframe\">\n",
       "  <thead>\n",
       "    <tr style=\"text-align: right;\">\n",
       "      <th></th>\n",
       "      <th>index</th>\n",
       "      <th>Entity</th>\n",
       "      <th>Code</th>\n",
       "      <th>Year</th>\n",
       "      <th>Schizophrenia (%)</th>\n",
       "      <th>Bipolar disorder (%)</th>\n",
       "      <th>Eating disorders (%)</th>\n",
       "      <th>Anxiety disorders (%)</th>\n",
       "      <th>Drug use disorders (%)</th>\n",
       "      <th>Depression (%)</th>\n",
       "      <th>Unnamed: 10</th>\n",
       "    </tr>\n",
       "  </thead>\n",
       "  <tbody>\n",
       "    <tr>\n",
       "      <th>0</th>\n",
       "      <td>0</td>\n",
       "      <td>Afghanistan</td>\n",
       "      <td>AFG</td>\n",
       "      <td>1990</td>\n",
       "      <td>0.16056</td>\n",
       "      <td>0.697779</td>\n",
       "      <td>0.101855</td>\n",
       "      <td>4.828830</td>\n",
       "      <td>1.677082</td>\n",
       "      <td>4.071831</td>\n",
       "      <td>0.672404</td>\n",
       "    </tr>\n",
       "    <tr>\n",
       "      <th>1</th>\n",
       "      <td>1</td>\n",
       "      <td>Afghanistan</td>\n",
       "      <td>AFG</td>\n",
       "      <td>1991</td>\n",
       "      <td>0.160312</td>\n",
       "      <td>0.697961</td>\n",
       "      <td>0.099313</td>\n",
       "      <td>4.829740</td>\n",
       "      <td>1.684746</td>\n",
       "      <td>4.079531</td>\n",
       "      <td>0.671768</td>\n",
       "    </tr>\n",
       "    <tr>\n",
       "      <th>2</th>\n",
       "      <td>2</td>\n",
       "      <td>Afghanistan</td>\n",
       "      <td>AFG</td>\n",
       "      <td>1992</td>\n",
       "      <td>0.160135</td>\n",
       "      <td>0.698107</td>\n",
       "      <td>0.096692</td>\n",
       "      <td>4.831108</td>\n",
       "      <td>1.694334</td>\n",
       "      <td>4.088358</td>\n",
       "      <td>0.670644</td>\n",
       "    </tr>\n",
       "    <tr>\n",
       "      <th>3</th>\n",
       "      <td>3</td>\n",
       "      <td>Afghanistan</td>\n",
       "      <td>AFG</td>\n",
       "      <td>1993</td>\n",
       "      <td>0.160037</td>\n",
       "      <td>0.698257</td>\n",
       "      <td>0.094336</td>\n",
       "      <td>4.830864</td>\n",
       "      <td>1.705320</td>\n",
       "      <td>4.096190</td>\n",
       "      <td>0.669738</td>\n",
       "    </tr>\n",
       "    <tr>\n",
       "      <th>4</th>\n",
       "      <td>4</td>\n",
       "      <td>Afghanistan</td>\n",
       "      <td>AFG</td>\n",
       "      <td>1994</td>\n",
       "      <td>0.160022</td>\n",
       "      <td>0.698469</td>\n",
       "      <td>0.092439</td>\n",
       "      <td>4.829423</td>\n",
       "      <td>1.716069</td>\n",
       "      <td>4.099582</td>\n",
       "      <td>0.669260</td>\n",
       "    </tr>\n",
       "  </tbody>\n",
       "</table>\n",
       "</div>"
      ],
      "text/plain": [
       "  index       Entity Code  Year Schizophrenia (%) Bipolar disorder (%)  \\\n",
       "0     0  Afghanistan  AFG  1990           0.16056             0.697779   \n",
       "1     1  Afghanistan  AFG  1991          0.160312             0.697961   \n",
       "2     2  Afghanistan  AFG  1992          0.160135             0.698107   \n",
       "3     3  Afghanistan  AFG  1993          0.160037             0.698257   \n",
       "4     4  Afghanistan  AFG  1994          0.160022             0.698469   \n",
       "\n",
       "  Eating disorders (%)  Anxiety disorders (%)  Drug use disorders (%)  \\\n",
       "0             0.101855               4.828830                1.677082   \n",
       "1             0.099313               4.829740                1.684746   \n",
       "2             0.096692               4.831108                1.694334   \n",
       "3             0.094336               4.830864                1.705320   \n",
       "4             0.092439               4.829423                1.716069   \n",
       "\n",
       "   Depression (%)  Unnamed: 10  \n",
       "0        4.071831     0.672404  \n",
       "1        4.079531     0.671768  \n",
       "2        4.088358     0.670644  \n",
       "3        4.096190     0.669738  \n",
       "4        4.099582     0.669260  "
      ]
     },
     "execution_count": 14,
     "metadata": {},
     "output_type": "execute_result"
    }
   ],
   "source": [
    "data_1.head()"
   ]
  },
  {
   "cell_type": "code",
   "execution_count": 15,
   "id": "59fdaec1",
   "metadata": {},
   "outputs": [],
   "source": [
    "data_1.rename(columns={'Unnamed: 10':'Mental_fitness'}, inplace=True)"
   ]
  },
  {
   "cell_type": "code",
   "execution_count": 16,
   "id": "2db3af7c",
   "metadata": {},
   "outputs": [],
   "source": [
    "#Data cleaning\n",
    "\n",
    "\n",
    "data_1.drop('Code', axis=1,inplace=True)\n",
    "data_1.drop('index', axis=1,inplace=True)"
   ]
  },
  {
   "cell_type": "code",
   "execution_count": 17,
   "id": "47c7162d",
   "metadata": {},
   "outputs": [],
   "source": [
    "#data = pd.merge(data_1,data_2)"
   ]
  },
  {
   "cell_type": "code",
   "execution_count": 18,
   "id": "e8aba15d",
   "metadata": {},
   "outputs": [],
   "source": [
    "data_1.dropna(inplace=True)"
   ]
  },
  {
   "cell_type": "code",
   "execution_count": 19,
   "id": "618d0914",
   "metadata": {},
   "outputs": [
    {
     "data": {
      "text/plain": [
       "Entity                    0\n",
       "Year                      0\n",
       "Schizophrenia (%)         0\n",
       "Bipolar disorder (%)      0\n",
       "Eating disorders (%)      0\n",
       "Anxiety disorders (%)     0\n",
       "Drug use disorders (%)    0\n",
       "Depression (%)            0\n",
       "Mental_fitness            0\n",
       "dtype: int64"
      ]
     },
     "execution_count": 19,
     "metadata": {},
     "output_type": "execute_result"
    }
   ],
   "source": [
    "data_1.isnull().sum()"
   ]
  },
  {
   "cell_type": "code",
   "execution_count": 20,
   "id": "83079c70",
   "metadata": {},
   "outputs": [],
   "source": [
    "# data_1[\"Entity\"].fillna(0, inplace=True)\n",
    "# data_1[\"Year\"].fillna(0, inplace=True)\n",
    "# data_1[\"Schizophrenia (%)\"].fillna(0, inplace=True)\n",
    "# data_1[\"Bipolar disorder (%)\"].fillna(0, inplace=True)\n",
    "# data_1[\"Eating disorders (%)\"].fillna(0, inplace=True)\n",
    "# data_1[\"Anxiety disorders (%)\"].fillna(0, inplace=True)\n",
    "# data_1[\"Drug use disorders (%)\"].fillna(0, inplace=True)\n",
    "# data_1[\"Depression (%)\"].fillna(0, inplace=True)\n",
    "# data_1[\"Mental_fitness\"].fillna(0, inplace=True)"
   ]
  },
  {
   "cell_type": "code",
   "execution_count": 21,
   "id": "8cc2e8fd",
   "metadata": {},
   "outputs": [
    {
     "data": {
      "text/plain": [
       "Index(['Entity', 'Year', 'Schizophrenia (%)', 'Bipolar disorder (%)',\n",
       "       'Eating disorders (%)', 'Anxiety disorders (%)',\n",
       "       'Drug use disorders (%)', 'Depression (%)', 'Mental_fitness'],\n",
       "      dtype='object')"
      ]
     },
     "execution_count": 21,
     "metadata": {},
     "output_type": "execute_result"
    }
   ],
   "source": [
    "data_1.columns"
   ]
  },
  {
   "cell_type": "code",
   "execution_count": 22,
   "id": "77561bd2",
   "metadata": {},
   "outputs": [
    {
     "name": "stdout",
     "output_type": "stream",
     "text": [
      "<class 'pandas.core.frame.DataFrame'>\n",
      "Int64Index: 6412 entries, 0 to 6467\n",
      "Data columns (total 9 columns):\n",
      " #   Column                  Non-Null Count  Dtype  \n",
      "---  ------                  --------------  -----  \n",
      " 0   Entity                  6412 non-null   object \n",
      " 1   Year                    6412 non-null   object \n",
      " 2   Schizophrenia (%)       6412 non-null   object \n",
      " 3   Bipolar disorder (%)    6412 non-null   object \n",
      " 4   Eating disorders (%)    6412 non-null   object \n",
      " 5   Anxiety disorders (%)   6412 non-null   float64\n",
      " 6   Drug use disorders (%)  6412 non-null   float64\n",
      " 7   Depression (%)          6412 non-null   float64\n",
      " 8   Mental_fitness          6412 non-null   float64\n",
      "dtypes: float64(4), object(5)\n",
      "memory usage: 500.9+ KB\n"
     ]
    }
   ],
   "source": [
    "data_1.info()"
   ]
  },
  {
   "cell_type": "code",
   "execution_count": 23,
   "id": "bc025c7e",
   "metadata": {},
   "outputs": [
    {
     "data": {
      "text/plain": [
       "(57708, (6412, 9))"
      ]
     },
     "execution_count": 23,
     "metadata": {},
     "output_type": "execute_result"
    }
   ],
   "source": [
    "data_1.size,data_1.shape"
   ]
  },
  {
   "cell_type": "code",
   "execution_count": 24,
   "id": "e60e59bc",
   "metadata": {},
   "outputs": [
    {
     "data": {
      "text/html": [
       "<div>\n",
       "<style scoped>\n",
       "    .dataframe tbody tr th:only-of-type {\n",
       "        vertical-align: middle;\n",
       "    }\n",
       "\n",
       "    .dataframe tbody tr th {\n",
       "        vertical-align: top;\n",
       "    }\n",
       "\n",
       "    .dataframe thead th {\n",
       "        text-align: right;\n",
       "    }\n",
       "</style>\n",
       "<table border=\"1\" class=\"dataframe\">\n",
       "  <thead>\n",
       "    <tr style=\"text-align: right;\">\n",
       "      <th></th>\n",
       "      <th>Entity</th>\n",
       "      <th>Year</th>\n",
       "      <th>Schizophrenia (%)</th>\n",
       "      <th>Bipolar disorder (%)</th>\n",
       "      <th>Eating disorders (%)</th>\n",
       "      <th>Anxiety disorders (%)</th>\n",
       "      <th>Drug use disorders (%)</th>\n",
       "      <th>Depression (%)</th>\n",
       "      <th>Mental_fitness</th>\n",
       "    </tr>\n",
       "  </thead>\n",
       "  <tbody>\n",
       "    <tr>\n",
       "      <th>0</th>\n",
       "      <td>Afghanistan</td>\n",
       "      <td>1990</td>\n",
       "      <td>0.16056</td>\n",
       "      <td>0.697779</td>\n",
       "      <td>0.101855</td>\n",
       "      <td>4.828830</td>\n",
       "      <td>1.677082</td>\n",
       "      <td>4.071831</td>\n",
       "      <td>0.672404</td>\n",
       "    </tr>\n",
       "    <tr>\n",
       "      <th>1</th>\n",
       "      <td>Afghanistan</td>\n",
       "      <td>1991</td>\n",
       "      <td>0.160312</td>\n",
       "      <td>0.697961</td>\n",
       "      <td>0.099313</td>\n",
       "      <td>4.829740</td>\n",
       "      <td>1.684746</td>\n",
       "      <td>4.079531</td>\n",
       "      <td>0.671768</td>\n",
       "    </tr>\n",
       "    <tr>\n",
       "      <th>2</th>\n",
       "      <td>Afghanistan</td>\n",
       "      <td>1992</td>\n",
       "      <td>0.160135</td>\n",
       "      <td>0.698107</td>\n",
       "      <td>0.096692</td>\n",
       "      <td>4.831108</td>\n",
       "      <td>1.694334</td>\n",
       "      <td>4.088358</td>\n",
       "      <td>0.670644</td>\n",
       "    </tr>\n",
       "    <tr>\n",
       "      <th>3</th>\n",
       "      <td>Afghanistan</td>\n",
       "      <td>1993</td>\n",
       "      <td>0.160037</td>\n",
       "      <td>0.698257</td>\n",
       "      <td>0.094336</td>\n",
       "      <td>4.830864</td>\n",
       "      <td>1.705320</td>\n",
       "      <td>4.096190</td>\n",
       "      <td>0.669738</td>\n",
       "    </tr>\n",
       "    <tr>\n",
       "      <th>4</th>\n",
       "      <td>Afghanistan</td>\n",
       "      <td>1994</td>\n",
       "      <td>0.160022</td>\n",
       "      <td>0.698469</td>\n",
       "      <td>0.092439</td>\n",
       "      <td>4.829423</td>\n",
       "      <td>1.716069</td>\n",
       "      <td>4.099582</td>\n",
       "      <td>0.669260</td>\n",
       "    </tr>\n",
       "  </tbody>\n",
       "</table>\n",
       "</div>"
      ],
      "text/plain": [
       "        Entity  Year Schizophrenia (%) Bipolar disorder (%)  \\\n",
       "0  Afghanistan  1990           0.16056             0.697779   \n",
       "1  Afghanistan  1991          0.160312             0.697961   \n",
       "2  Afghanistan  1992          0.160135             0.698107   \n",
       "3  Afghanistan  1993          0.160037             0.698257   \n",
       "4  Afghanistan  1994          0.160022             0.698469   \n",
       "\n",
       "  Eating disorders (%)  Anxiety disorders (%)  Drug use disorders (%)  \\\n",
       "0             0.101855               4.828830                1.677082   \n",
       "1             0.099313               4.829740                1.684746   \n",
       "2             0.096692               4.831108                1.694334   \n",
       "3             0.094336               4.830864                1.705320   \n",
       "4             0.092439               4.829423                1.716069   \n",
       "\n",
       "   Depression (%)  Mental_fitness  \n",
       "0        4.071831        0.672404  \n",
       "1        4.079531        0.671768  \n",
       "2        4.088358        0.670644  \n",
       "3        4.096190        0.669738  \n",
       "4        4.099582        0.669260  "
      ]
     },
     "execution_count": 24,
     "metadata": {},
     "output_type": "execute_result"
    }
   ],
   "source": [
    "data_1.head()"
   ]
  },
  {
   "cell_type": "code",
   "execution_count": 25,
   "id": "43bdd345",
   "metadata": {},
   "outputs": [
    {
     "data": {
      "text/plain": [
       "<function matplotlib.pyplot.plot(*args, scalex=True, scaley=True, data=None, **kwargs)>"
      ]
     },
     "execution_count": 25,
     "metadata": {},
     "output_type": "execute_result"
    },
    {
     "data": {
      "image/png": "[encoded data removed]",
      "text/plain": [
       "<Figure size 1000x400 with 2 Axes>"
      ]
     },
     "metadata": {},
     "output_type": "display_data"
    }
   ],
   "source": [
    "#Visualization:\n",
    "\n",
    "plt.figure(figsize = (10,4))\n",
    "sns.heatmap(data_1.corr(),annot=True,cmap='Blues')\n",
    "plt.plot"
   ]
  },
  {
   "cell_type": "code",
   "execution_count": 26,
   "id": "e6720b6d",
   "metadata": {},
   "outputs": [],
   "source": [
    "# sns.pairplot(data_1,corner=True)\n",
    "# plt.show()"
   ]
  },
  {
   "cell_type": "code",
   "execution_count": 27,
   "id": "4c12a9e0",
   "metadata": {},
   "outputs": [
    {
     "data": {
      "text/plain": [
       "1.5785454449469745"
      ]
     },
     "execution_count": 27,
     "metadata": {},
     "output_type": "execute_result"
    }
   ],
   "source": [
    "mean = data_1['Mental_fitness'].mean()\n",
    "mean"
   ]
  },
  {
   "cell_type": "code",
   "execution_count": 28,
   "id": "0fa540d9",
   "metadata": {},
   "outputs": [],
   "source": [
    "# fig = px.pie(data_1, values='Mental_fitness', names='Year')\n",
    "# fig.show()"
   ]
  },
  {
   "cell_type": "code",
   "execution_count": 29,
   "id": "1994cf28",
   "metadata": {},
   "outputs": [],
   "source": [
    "from sklearn.preprocessing import LabelEncoder\n",
    "l=LabelEncoder()\n",
    "for i in data_1.columns:\n",
    "    if data_1[i].dtype == 'object':\n",
    "        data_1[i]=l.fit_transform(data_1[i]) "
   ]
  },
  {
   "cell_type": "code",
   "execution_count": 30,
   "id": "f1f02d52",
   "metadata": {},
   "outputs": [],
   "source": [
    "#Spliting the dataset\n",
    "\n",
    "X = data_1.drop('Mental_fitness', axis=1)\n",
    "y = data_1['Mental_fitness']"
   ]
  },
  {
   "cell_type": "code",
   "execution_count": 31,
   "id": "9ec90df7",
   "metadata": {},
   "outputs": [],
   "source": [
    "from sklearn.model_selection import train_test_split\n",
    "X_train,X_test,y_train,y_test = train_test_split(X, y, test_size=0.3, random_state=2)"
   ]
  },
  {
   "cell_type": "code",
   "execution_count": 32,
   "id": "517066e0",
   "metadata": {},
   "outputs": [
    {
     "name": "stdout",
     "output_type": "stream",
     "text": [
      "X_train (4488, 8)\n",
      "X_test (1924, 8)\n",
      "\n",
      "y_train (4488,)\n",
      "y_test (1924,)\n"
     ]
    }
   ],
   "source": [
    "print(\"X_train\",X_train.shape)\n",
    "print(\"X_test\",X_test.shape)\n",
    "print(\"\\ny_train\",y_train.shape)\n",
    "print(\"y_test\",y_test.shape)"
   ]
  },
  {
   "cell_type": "code",
   "execution_count": 33,
   "id": "5d01ff38",
   "metadata": {},
   "outputs": [],
   "source": [
    "from sklearn.linear_model import LinearRegression\n",
    "from sklearn.metrics import mean_squared_error, r2_score"
   ]
  },
  {
   "cell_type": "code",
   "execution_count": 34,
   "id": "cfeb8d2f",
   "metadata": {},
   "outputs": [],
   "source": [
    "lreg = LinearRegression()\n",
    "lreg.fit(X_train, y_train)\n",
    "\n",
    "y_train_pred = lreg.predict(X_train)\n",
    "mse = mean_squared_error(y_train, y_train_pred)\n",
    "rmse = (np.sqrt(mse))\n",
    "r2 = r2_score(y_train, y_train_pred)"
   ]
  },
  {
   "cell_type": "code",
   "execution_count": 36,
   "id": "511374f1",
   "metadata": {},
   "outputs": [
    {
     "name": "stdout",
     "output_type": "stream",
     "text": [
      "The Linear Regression model performance for training set\n",
      "---------------------------------------------------\n",
      "Mean Squared Error is  0.6109605738235598\n",
      "Root Mean Squared Error is  0.7816396700677108\n",
      "R2 score is  0.16220317734065048\n"
     ]
    }
   ],
   "source": [
    "print(\"The Linear Regression model performance for training set\")\n",
    "print(\"---------------------------------------------------\")\n",
    "print(\"Mean Squared Error is \",format(mse))\n",
    "print(\"Root Mean Squared Error is \",format(rmse))\n",
    "print(\"R2 score is \",format(r2))"
   ]
  },
  {
   "cell_type": "code",
   "execution_count": 40,
   "id": "1c7a1b1a",
   "metadata": {
    "scrolled": true
   },
   "outputs": [
    {
     "name": "stdout",
     "output_type": "stream",
     "text": [
      "The Random Forest Regressor model performance for training set\n",
      "---------------------------------------------------\n",
      "Mean Squared Error is  0.0006786724290438116\n",
      "Root Mean Squared Error is  0.02605134217355819\n",
      "R2 score is  0.9990693513967341\n"
     ]
    }
   ],
   "source": [
    "from sklearn.ensemble import RandomForestRegressor\n",
    "rf = RandomForestRegressor()\n",
    "rf.fit(X_train, y_train)\n",
    "\n",
    "y_train_pred = rf.predict(X_train)\n",
    "mse = mean_squared_error(y_train, y_train_pred)\n",
    "rmse = (np.sqrt(mse))\n",
    "r2 = r2_score(y_train, y_train_pred)\n",
    "\n",
    "print(\"The Random Forest Regressor model performance for training set\")\n",
    "print(\"---------------------------------------------------\")\n",
    "print(\"Mean Squared Error is \",format(mse))\n",
    "print(\"Root Mean Squared Error is \",format(rmse))\n",
    "print(\"R2 score is \",format(r2))"
   ]
  },
  {
   "cell_type": "code",
   "execution_count": 41,
   "id": "1177940b",
   "metadata": {},
   "outputs": [
    {
     "name": "stdout",
     "output_type": "stream",
     "text": [
      "The Linear Regression model performance for testing set\n",
      "---------------------------------------------------\n",
      "Mean Squared Error is  0.5903794181504785\n",
      "Root Mean Squared Error is  0.768361515271606\n",
      "R2 score is  0.17392874926724866\n"
     ]
    }
   ],
   "source": [
    "#Evaluation\n",
    "\n",
    "# Linear regression model evaluation for testing set\n",
    "\n",
    "y_test_pred = lreg.predict(X_test) \n",
    "mse = mean_squared_error(y_test, y_test_pred)\n",
    "rmse = (np.sqrt(mean_squared_error(y_test, y_test_pred)))\n",
    "r2 = r2_score(y_test, y_test_pred)\n",
    "\n",
    "print(\"The Linear Regression model performance for testing set\")\n",
    "print(\"---------------------------------------------------\")\n",
    "print(\"Mean Squared Error is \",format(mse))\n",
    "print(\"Root Mean Squared Error is \",format(rmse))\n",
    "print(\"R2 score is \",format(r2))\n"
   ]
  },
  {
   "cell_type": "code",
   "execution_count": 42,
   "id": "a03499cb",
   "metadata": {},
   "outputs": [
    {
     "name": "stdout",
     "output_type": "stream",
     "text": [
      "The Random Forest Regressor model performance for testing set\n",
      "---------------------------------------------------\n",
      "Mean Squared Error is  0.003238158805565259\n",
      "Root Mean Squared Error is  0.05690482234016076\n",
      "R2 score is  0.9954691003575894\n"
     ]
    }
   ],
   "source": [
    "#Random Forest Regressor model evaluation for testing set\n",
    "\n",
    "y_test_pred = rf.predict(X_test) \n",
    "mse = mean_squared_error(y_test, y_test_pred)\n",
    "rmse = (np.sqrt(mean_squared_error(y_test, y_test_pred)))\n",
    "r2 = r2_score(y_test, y_test_pred)\n",
    "\n",
    "print(\"The Random Forest Regressor model performance for testing set\")\n",
    "print(\"---------------------------------------------------\")\n",
    "print(\"Mean Squared Error is \",format(mse))\n",
    "print(\"Root Mean Squared Error is \",format(rmse))\n",
    "print(\"R2 score is \",format(r2))"
   ]
  },
  {
   "cell_type": "code",
   "execution_count": null,
   "id": "f9882573",
   "metadata": {},
   "outputs": [],
   "source": []
  }
 ],
 "metadata": {
  "kernelspec": {
   "display_name": "Python 3 (ipykernel)",
   "language": "python",
   "name": "python3"
  },
  "language_info": {
   "codemirror_mode": {
    "name": "ipython",
    "version": 3
   },
   "file_extension": ".py",
   "mimetype": "text/x-python",
   "name": "python",
   "nbconvert_exporter": "python",
   "pygments_lexer": "ipython3",
   "version": "3.10.9"
  }
 },
 "nbformat": 4,
 "nbformat_minor": 5
}
